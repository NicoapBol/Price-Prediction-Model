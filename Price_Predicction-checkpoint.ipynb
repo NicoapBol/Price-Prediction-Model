{
 "cells": [
  {
   "cell_type": "markdown",
   "id": "85a92ae0-0914-4ef8-adac-7064e1874526",
   "metadata": {},
   "source": [
    "# Price Prediction Model\n",
    "### By Nicolas Acha"
   ]
  },
  {
   "cell_type": "markdown",
   "id": "992a5f86-1a5d-4423-a7d9-83cd80d28511",
   "metadata": {},
   "source": [
    "## Motivation:\n",
    "\n",
    "Developing a predictive model for car selling price utilizing key attributes such as year, mileage, fuel type, transmission, and others can provide valuable insights for both buyers and sellers in the automotive market, enabling them to make informed decisions and ultimately enhance their overall experience.\n",
    "\n",
    "Some potential use cases and benefits of building a predictive model for car selling price are: \n",
    "\n",
    "* More informed buying decisions for car buyers\n",
    "* Optimal pricing for car sellers, increasing chances of sale and profits\n",
    "* Improved profitability and decision-making for car dealerships\n",
    "* Identification of pricing trends and consumer preferences for the automotive industry\n",
    "* Time and cost savings for all parties involved in the car buying and selling process."
   ]
  },
  {
   "cell_type": "code",
   "execution_count": 1,
   "id": "f6970e4d-92d5-4826-91b6-49d8338a5bbf",
   "metadata": {},
   "outputs": [],
   "source": [
    "# Import the libraries:\n",
    "\n",
    "import pandas as pd\n",
    "import numpy as np\n",
    "import matplotlib.pyplot as plt\n",
    "import seaborn as sns\n",
    "\n",
    "%matplotlib inline\n",
    "sns.set()"
   ]
  },
  {
   "cell_type": "markdown",
   "id": "5fbdd057-89c4-4203-bb93-9dc1f6f3b1e1",
   "metadata": {},
   "source": [
    "## About the Data Set: \n",
    "\n",
    "* Name: \"Vehicle dataset\"\n",
    "* URL: https://www.kaggle.com/datasets/nehalbirla/vehicle-dataset-from-cardekho\n",
    "* Source: Kaggle\n",
    "* Last Update: 2023/01/14\n",
    "* Country: India\n",
    "\n",
    "#### Description: \n",
    "\n",
    "The Kaggle Vehicle Dataset is a dataset that contains information about used cars listed for sale in India. It includes both qualitative and quantitative attributes that are commonly used in buying/selling car transactions, which can help to identify important correlations to create a predictive model for car selling prices. Attributes such as the original price, transmission type, fuel type, mileage, year model, etc., can be used to train the model. The dataset is compiled from various sources, including online classified advertisements and dealership websites.\n",
    " "
   ]
  },
  {
   "cell_type": "code",
   "execution_count": 2,
   "id": "6965e0a1-1ace-4cf2-afe7-032a44c50096",
   "metadata": {},
   "outputs": [
    {
     "data": {
      "text/html": [
       "<div>\n",
       "<style scoped>\n",
       "    .dataframe tbody tr th:only-of-type {\n",
       "        vertical-align: middle;\n",
       "    }\n",
       "\n",
       "    .dataframe tbody tr th {\n",
       "        vertical-align: top;\n",
       "    }\n",
       "\n",
       "    .dataframe thead th {\n",
       "        text-align: right;\n",
       "    }\n",
       "</style>\n",
       "<table border=\"1\" class=\"dataframe\">\n",
       "  <thead>\n",
       "    <tr style=\"text-align: right;\">\n",
       "      <th></th>\n",
       "      <th>Car_Name</th>\n",
       "      <th>Year</th>\n",
       "      <th>Selling_Price</th>\n",
       "      <th>Present_Price</th>\n",
       "      <th>Kms_Driven</th>\n",
       "      <th>Fuel_Type</th>\n",
       "      <th>Seller_Type</th>\n",
       "      <th>Transmission</th>\n",
       "      <th>Owner</th>\n",
       "    </tr>\n",
       "  </thead>\n",
       "  <tbody>\n",
       "    <tr>\n",
       "      <th>0</th>\n",
       "      <td>ritz</td>\n",
       "      <td>2014</td>\n",
       "      <td>3.35</td>\n",
       "      <td>5.59</td>\n",
       "      <td>27000</td>\n",
       "      <td>Petrol</td>\n",
       "      <td>Dealer</td>\n",
       "      <td>Manual</td>\n",
       "      <td>0</td>\n",
       "    </tr>\n",
       "    <tr>\n",
       "      <th>1</th>\n",
       "      <td>sx4</td>\n",
       "      <td>2013</td>\n",
       "      <td>4.75</td>\n",
       "      <td>9.54</td>\n",
       "      <td>43000</td>\n",
       "      <td>Diesel</td>\n",
       "      <td>Dealer</td>\n",
       "      <td>Manual</td>\n",
       "      <td>0</td>\n",
       "    </tr>\n",
       "    <tr>\n",
       "      <th>2</th>\n",
       "      <td>ciaz</td>\n",
       "      <td>2017</td>\n",
       "      <td>7.25</td>\n",
       "      <td>9.85</td>\n",
       "      <td>6900</td>\n",
       "      <td>Petrol</td>\n",
       "      <td>Dealer</td>\n",
       "      <td>Manual</td>\n",
       "      <td>0</td>\n",
       "    </tr>\n",
       "    <tr>\n",
       "      <th>3</th>\n",
       "      <td>wagon r</td>\n",
       "      <td>2011</td>\n",
       "      <td>2.85</td>\n",
       "      <td>4.15</td>\n",
       "      <td>5200</td>\n",
       "      <td>Petrol</td>\n",
       "      <td>Dealer</td>\n",
       "      <td>Manual</td>\n",
       "      <td>0</td>\n",
       "    </tr>\n",
       "    <tr>\n",
       "      <th>4</th>\n",
       "      <td>swift</td>\n",
       "      <td>2014</td>\n",
       "      <td>4.60</td>\n",
       "      <td>6.87</td>\n",
       "      <td>42450</td>\n",
       "      <td>Diesel</td>\n",
       "      <td>Dealer</td>\n",
       "      <td>Manual</td>\n",
       "      <td>0</td>\n",
       "    </tr>\n",
       "  </tbody>\n",
       "</table>\n",
       "</div>"
      ],
      "text/plain": [
       "  Car_Name  Year  Selling_Price  Present_Price  Kms_Driven Fuel_Type  \\\n",
       "0     ritz  2014           3.35           5.59       27000    Petrol   \n",
       "1      sx4  2013           4.75           9.54       43000    Diesel   \n",
       "2     ciaz  2017           7.25           9.85        6900    Petrol   \n",
       "3  wagon r  2011           2.85           4.15        5200    Petrol   \n",
       "4    swift  2014           4.60           6.87       42450    Diesel   \n",
       "\n",
       "  Seller_Type Transmission  Owner  \n",
       "0      Dealer       Manual      0  \n",
       "1      Dealer       Manual      0  \n",
       "2      Dealer       Manual      0  \n",
       "3      Dealer       Manual      0  \n",
       "4      Dealer       Manual      0  "
      ]
     },
     "execution_count": 2,
     "metadata": {},
     "output_type": "execute_result"
    }
   ],
   "source": [
    "# Read the data set 'car_data.csv'\n",
    "\n",
    "df=pd.read_csv('car data.csv')\n",
    "df.head()"
   ]
  },
  {
   "cell_type": "markdown",
   "id": "5d0f5f07-bbf8-47cb-a702-a5bf1349bd45",
   "metadata": {
    "tags": []
   },
   "source": [
    "## Exploratory Analysis: "
   ]
  },
  {
   "cell_type": "code",
   "execution_count": 3,
   "id": "db180fba-9836-4fa3-a4a0-288cfff62d6b",
   "metadata": {},
   "outputs": [
    {
     "name": "stdout",
     "output_type": "stream",
     "text": [
      "<class 'pandas.core.frame.DataFrame'>\n",
      "RangeIndex: 301 entries, 0 to 300\n",
      "Data columns (total 9 columns):\n",
      " #   Column         Non-Null Count  Dtype  \n",
      "---  ------         --------------  -----  \n",
      " 0   Car_Name       301 non-null    object \n",
      " 1   Year           301 non-null    int64  \n",
      " 2   Selling_Price  301 non-null    float64\n",
      " 3   Present_Price  301 non-null    float64\n",
      " 4   Kms_Driven     301 non-null    int64  \n",
      " 5   Fuel_Type      301 non-null    object \n",
      " 6   Seller_Type    301 non-null    object \n",
      " 7   Transmission   301 non-null    object \n",
      " 8   Owner          301 non-null    int64  \n",
      "dtypes: float64(2), int64(3), object(4)\n",
      "memory usage: 21.3+ KB\n",
      " \n",
      "***THERE ARE 301 ROWS AND 9 COLUMNS***\n"
     ]
    }
   ],
   "source": [
    "df.info()\n",
    "\n",
    "print(\" \")\n",
    "print(\"***THERE ARE \" + str(df.shape[0]) + \" ROWS AND \" + str(df.shape[1]) + \" COLUMNS***\")"
   ]
  },
  {
   "cell_type": "code",
   "execution_count": 4,
   "id": "3e050244-dfc5-47fb-8589-1875afb47bba",
   "metadata": {},
   "outputs": [
    {
     "name": "stdout",
     "output_type": "stream",
     "text": [
      "       Car_Name         Year  Selling_Price  Present_Price     Kms_Driven  \\\n",
      "count       301   301.000000     301.000000     301.000000     301.000000   \n",
      "unique       98          NaN            NaN            NaN            NaN   \n",
      "top        city          NaN            NaN            NaN            NaN   \n",
      "freq         26          NaN            NaN            NaN            NaN   \n",
      "mean        NaN  2013.627907       4.661296       7.628472   36947.205980   \n",
      "std         NaN     2.891554       5.082812       8.644115   38886.883882   \n",
      "min         NaN  2003.000000       0.100000       0.320000     500.000000   \n",
      "25%         NaN  2012.000000       0.900000       1.200000   15000.000000   \n",
      "50%         NaN  2014.000000       3.600000       6.400000   32000.000000   \n",
      "75%         NaN  2016.000000       6.000000       9.900000   48767.000000   \n",
      "max         NaN  2018.000000      35.000000      92.600000  500000.000000   \n",
      "\n",
      "       Fuel_Type Seller_Type Transmission       Owner  \n",
      "count        301         301          301  301.000000  \n",
      "unique         3           2            2         NaN  \n",
      "top       Petrol      Dealer       Manual         NaN  \n",
      "freq         239         195          261         NaN  \n",
      "mean         NaN         NaN          NaN    0.043189  \n",
      "std          NaN         NaN          NaN    0.247915  \n",
      "min          NaN         NaN          NaN    0.000000  \n",
      "25%          NaN         NaN          NaN    0.000000  \n",
      "50%          NaN         NaN          NaN    0.000000  \n",
      "75%          NaN         NaN          NaN    0.000000  \n",
      "max          NaN         NaN          NaN    3.000000  \n"
     ]
    }
   ],
   "source": [
    "df.describe()\n",
    "print(df.describe(include='all'))"
   ]
  },
  {
   "cell_type": "markdown",
   "id": "71144418-3284-4025-865a-34eb0076aa0a",
   "metadata": {},
   "source": [
    "* The average year of manufacture is 2013.63, with the oldest car manufactured in 2003 and the newest in 2018.\n",
    "* The average selling price of the cars in the dataset is 4.66, with the highest selling price at 35.00 and the lowest selling price at 0.10.\n",
    "* The average present price of the cars in the dataset is 7.63, with the highest present price at 92.60 and the lowest present price at 0.32.\n",
    "* The average distance driven by the cars is 36947.21 km, with the highest distance at 500000 km and the lowest distance at 500 km.\n",
    "* The average number of owners of the cars in the dataset is 0.04, with the most owned by a car at 3 and the least owned by a car at 0."
   ]
  },
  {
   "cell_type": "code",
   "execution_count": 5,
   "id": "14d6b561-aa3e-45d8-b853-c915f7ed2758",
   "metadata": {},
   "outputs": [
    {
     "name": "stdout",
     "output_type": "stream",
     "text": [
      "+--------------------------+--------------------------+\n",
      "| Car_Name                 | -->Car name / model      |\n",
      "| Year                     | -->Year of manufacture   |\n",
      "| Selling_Price            | -->Selling price         |\n",
      "| Present_Price            | -->Present price         |\n",
      "| Kms_Driven               | -->Distance driven (km)  |\n",
      "| Fuel_Type                | -->Fuel type             |\n",
      "| Seller_Type              | -->Seller type           |\n",
      "| Transmission             | -->Transmission type     |\n",
      "| Owner                    | -->Number of owners      |\n",
      "+--------------------------+--------------------------+\n"
     ]
    }
   ],
   "source": [
    "# Get the list of column names and add a conceptual text to each column\n",
    "column_names = df.columns.tolist()\n",
    "column_names_conceptual = ['-->Car name / model', '-->Year of manufacture', '-->Selling price', '-->Present price', '-->Distance driven (km)', \n",
    "                          '-->Fuel type', '-->Seller type', '-->Transmission type', '-->Number of owners']\n",
    "\n",
    "# Define the width of each column\n",
    "col_width = 24\n",
    "\n",
    "\n",
    "# Print the top border of the frame\n",
    "print(\"+\" + \"-\"*(col_width+2) + \"+\" + \"-\"*(col_width+2) + \"+\")\n",
    "\n",
    "# Print the list of column names with conceptual text\n",
    "for col_name, col_concept in zip(column_names_conceptual, column_names):\n",
    "    print(\"| {:<{}} | {:<{}} |\".format(col_concept, col_width, col_name, col_width))\n",
    "\n",
    "# Print the bottom border of the frame\n",
    "print(\"+\" + \"-\"*(col_width+2) + \"+\" + \"-\"*(col_width+2) + \"+\")"
   ]
  },
  {
   "cell_type": "code",
   "execution_count": 6,
   "id": "817e2345-e042-4b9c-8c37-3ef348b842cf",
   "metadata": {},
   "outputs": [
    {
     "name": "stdout",
     "output_type": "stream",
     "text": [
      "The Seller Type Options Are:---->['Dealer' 'Individual']\n",
      "The Fuel_Type Options Are:------>['Petrol' 'Diesel' 'CNG']\n",
      "The Transmission Options Are:--->['Manual' 'Automatic']\n",
      "The Owner Options Are:---------->[0 1 3]\n"
     ]
    }
   ],
   "source": [
    "print(\"The Seller Type Options Are:---->{}\".format(df['Seller_Type'].unique()))\n",
    "print(\"The Fuel_Type Options Are:------>{}\".format(df['Fuel_Type'].unique()))\n",
    "print(\"The Transmission Options Are:--->{}\".format(df['Transmission'].unique()))\n",
    "print(\"The Owner Options Are:---------->{}\".format(df['Owner'].unique()))\n"
   ]
  },
  {
   "cell_type": "markdown",
   "id": "1c8108be-52b7-4e92-af02-c6eeb570dea3",
   "metadata": {
    "tags": []
   },
   "source": [
    "## Data Preparation: "
   ]
  },
  {
   "cell_type": "code",
   "execution_count": 7,
   "id": "06087e07-b2f8-47de-8efe-b4035af1179e",
   "metadata": {},
   "outputs": [
    {
     "data": {
      "text/plain": [
       "Car_Name         0\n",
       "Year             0\n",
       "Selling_Price    0\n",
       "Present_Price    0\n",
       "Kms_Driven       0\n",
       "Fuel_Type        0\n",
       "Seller_Type      0\n",
       "Transmission     0\n",
       "Owner            0\n",
       "dtype: int64"
      ]
     },
     "execution_count": 7,
     "metadata": {},
     "output_type": "execute_result"
    }
   ],
   "source": [
    "# Check if there are any missing values in the dataset\n",
    "df.isna().sum()"
   ]
  },
  {
   "cell_type": "code",
   "execution_count": 8,
   "id": "725fdaee-7a66-4197-a581-e82acbb4fa23",
   "metadata": {},
   "outputs": [],
   "source": [
    "# I need to know how many years old the car is.\n",
    "# The max year of a car in the dataset is = 2018 so we can assume that the data set was from a collection of used car sales from 2018\n",
    "\n",
    "df['Car_years']= 2018-df['Year']\n"
   ]
  },
  {
   "cell_type": "code",
   "execution_count": 9,
   "id": "5835f37f-6eec-4601-b509-84bbf03387da",
   "metadata": {},
   "outputs": [
    {
     "name": "stdout",
     "output_type": "stream",
     "text": [
      "['Car_Name', 'Year', 'Selling_Price', 'Present_Price', 'Kms_Driven', 'Fuel_Type', 'Seller_Type', 'Transmission', 'Owner', 'Car_years']\n"
     ]
    }
   ],
   "source": [
    "print(df.columns.tolist())"
   ]
  },
  {
   "cell_type": "markdown",
   "id": "0a98986a-0307-451f-9204-12e7a7557100",
   "metadata": {},
   "source": [
    "#### * The data set displays the features 'Selling_Price' & 'Present_Price' with the unit in the Indian numbering system equal to one hundred thousand (100 000) indian rupees. \n",
    "#### * I want to convert those features to $us currency*"
   ]
  },
  {
   "cell_type": "code",
   "execution_count": 10,
   "id": "ee205132-4c47-4b62-b6af-a3420c6b207e",
   "metadata": {},
   "outputs": [],
   "source": [
    "#Converting Indiad Rupees to $us (₹1 INR = $0.0154)\n",
    "exchange_rate = 0.0154\n",
    "\n",
    "df['Selling_Price_USD'] = df['Selling_Price'] * 100000 * exchange_rate\n",
    "df['Present_Price_USD'] = df['Present_Price'] * 100000 * exchange_rate"
   ]
  },
  {
   "cell_type": "code",
   "execution_count": 11,
   "id": "8ddcafe5-7f92-4715-bd91-fe2cc5da6e2a",
   "metadata": {},
   "outputs": [
    {
     "name": "stdout",
     "output_type": "stream",
     "text": [
      "   Selling_Price  Selling_Price_USD  Present_Price  Present_Price_USD\n",
      "0           3.35             5159.0           5.59             8608.6\n",
      "1           4.75             7315.0           9.54            14691.6\n",
      "2           7.25            11165.0           9.85            15169.0\n",
      "3           2.85             4389.0           4.15             6391.0\n",
      "4           4.60             7084.0           6.87            10579.8\n"
     ]
    }
   ],
   "source": [
    "print(df[['Selling_Price', 'Selling_Price_USD', 'Present_Price', 'Present_Price_USD']].head())"
   ]
  },
  {
   "cell_type": "code",
   "execution_count": 12,
   "id": "6ef76b66-7e40-4614-8dbc-a2880eb1a10e",
   "metadata": {},
   "outputs": [],
   "source": [
    "#Drop columns Selling_Price, Present_Price and Year\n",
    "\n",
    "final_df = df.drop(['Selling_Price','Present_Price','Year'],axis=1)"
   ]
  },
  {
   "cell_type": "code",
   "execution_count": 13,
   "id": "7770f467-8f42-454b-b9e2-f8fb1e8ccd38",
   "metadata": {},
   "outputs": [
    {
     "data": {
      "image/png": "[encoded data removed]",
      "text/plain": [
       "<Figure size 2000x2000 with 2 Axes>"
      ]
     },
     "metadata": {},
     "output_type": "display_data"
    }
   ],
   "source": [
    "# Set dark background style\n",
    "sns.set_style('dark')\n",
    "\n",
    "# Get correlations of each features in dataset\n",
    "corrmat = final_df.corr()\n",
    "top_corr_features = corrmat.index\n",
    "\n",
    "# Create figure\n",
    "plt.figure(figsize=(20, 20))\n",
    "\n",
    "# Plot heat map\n",
    "g = sns.heatmap(final_df[top_corr_features].corr(), annot=True, cmap=\"BuPu\")"
   ]
  },
  {
   "cell_type": "code",
   "execution_count": 14,
   "id": "38622e29-7db9-4e78-b72b-7e2140aab7b0",
   "metadata": {},
   "outputs": [],
   "source": [
    "car_model_data = {\n",
    "    'ritz': ('Maruti Suzuki', 'India'),\n",
    "    'sx4': ('Maruti Suzuki', 'India'),\n",
    "    'ciaz': ('Maruti Suzuki', 'India'),\n",
    "    'wagon r': ('Maruti Suzuki', 'India'),\n",
    "    'swift': ('Maruti Suzuki', 'India'),\n",
    "    'vitara brezza': ('Maruti Suzuki', 'India'),\n",
    "    's cross': ('Maruti Suzuki', 'India'),\n",
    "    'alto 800': ('Maruti Suzuki', 'India'),\n",
    "    'ertiga': ('Maruti Suzuki', 'India'),\n",
    "    'dzire': ('Maruti Suzuki', 'India'),\n",
    "    'alto k10': ('Maruti Suzuki', 'India'),\n",
    "    'ignis': ('Maruti Suzuki', 'India'),\n",
    "    '800': ('Maruti Suzuki', 'India'),\n",
    "    'baleno': ('Maruti Suzuki', 'India'),\n",
    "    'omni': ('Maruti Suzuki', 'India'),\n",
    "    'fortuner': ('Toyota', 'Japan'),\n",
    "    'innova': ('Toyota', 'Japan'),\n",
    "    'corolla altis': ('Toyota', 'Japan'),\n",
    "    'etios cross': ('Toyota', 'Japan'),\n",
    "    'etios g': ('Toyota', 'Japan'),\n",
    "    'etios liva': ('Toyota', 'Japan'),\n",
    "    'corolla': ('Toyota', 'Japan'),\n",
    "    'etios gd': ('Toyota', 'Japan'),\n",
    "    'camry': ('Toyota', 'Japan'),\n",
    "    'land cruiser': ('Toyota', 'Japan'),\n",
    "    'Royal Enfield Thunder 500': ('Royal Enfield', 'India'),\n",
    "    'UM Renegade Mojave': ('UM', 'United States'),\n",
    "    'KTM RC200': ('KTM', 'Austria'),\n",
    "    'Bajaj Dominar 400': ('Bajaj', 'India'),\n",
    "    'Royal Enfield Classic 350': ('Royal Enfield', 'India'),\n",
    "    'KTM RC390': ('KTM', 'Austria'),\n",
    "    'Hyosung GT250R': ('Hyosung', 'South Korea'),\n",
    "    'Royal Enfield Thunder 350': ('Royal Enfield', 'India'),\n",
    "    'KTM 390 Duke ': ('KTM', 'Austria'),\n",
    "    'Mahindra Mojo XT300': ('Mahindra', 'India'),\n",
    "    'Bajaj Pulsar RS200': ('Bajaj', 'India'),\n",
    "    'Royal Enfield Bullet 350': ('Royal Enfield', 'India'),\n",
    "    'Royal Enfield Classic 500': ('Royal Enfield', 'India'),\n",
    "    'Bajaj Avenger 220': ('Bajaj', 'India'),\n",
    "    'Bajaj Avenger 150': ('Bajaj', 'India'),\n",
    "    'Yamaha FZ v 2.0': ('Yamaha','Japan')\n",
    "}\n",
    "\n",
    "model_df = pd.DataFrame.from_dict(car_model_data, orient='index', columns=['Brand', 'Country_of_Origin']).reset_index().rename(columns={'index': 'car_name'})"
   ]
  },
  {
   "cell_type": "code",
   "execution_count": 15,
   "id": "9b92fd62-9128-417b-b344-f48d5e4d6405",
   "metadata": {},
   "outputs": [],
   "source": [
    "merged_data = pd.merge(final_df, model_df, left_on='Car_Name', right_on='car_name', how='left')"
   ]
  },
  {
   "cell_type": "code",
   "execution_count": 16,
   "id": "b7dfa48d-900d-463d-af8a-19cd0b85b4af",
   "metadata": {},
   "outputs": [
    {
     "data": {
      "text/html": [
       "<div>\n",
       "<style scoped>\n",
       "    .dataframe tbody tr th:only-of-type {\n",
       "        vertical-align: middle;\n",
       "    }\n",
       "\n",
       "    .dataframe tbody tr th {\n",
       "        vertical-align: top;\n",
       "    }\n",
       "\n",
       "    .dataframe thead th {\n",
       "        text-align: right;\n",
       "    }\n",
       "</style>\n",
       "<table border=\"1\" class=\"dataframe\">\n",
       "  <thead>\n",
       "    <tr style=\"text-align: right;\">\n",
       "      <th></th>\n",
       "      <th>Car_Name</th>\n",
       "      <th>Kms_Driven</th>\n",
       "      <th>Fuel_Type</th>\n",
       "      <th>Seller_Type</th>\n",
       "      <th>Transmission</th>\n",
       "      <th>Owner</th>\n",
       "      <th>Car_years</th>\n",
       "      <th>Selling_Price_USD</th>\n",
       "      <th>Present_Price_USD</th>\n",
       "      <th>Brand</th>\n",
       "      <th>Country_of_Origin</th>\n",
       "    </tr>\n",
       "  </thead>\n",
       "  <tbody>\n",
       "    <tr>\n",
       "      <th>0</th>\n",
       "      <td>ritz</td>\n",
       "      <td>27000</td>\n",
       "      <td>Petrol</td>\n",
       "      <td>Dealer</td>\n",
       "      <td>Manual</td>\n",
       "      <td>0</td>\n",
       "      <td>4</td>\n",
       "      <td>5159.0</td>\n",
       "      <td>8608.6</td>\n",
       "      <td>Maruti Suzuki</td>\n",
       "      <td>India</td>\n",
       "    </tr>\n",
       "    <tr>\n",
       "      <th>1</th>\n",
       "      <td>sx4</td>\n",
       "      <td>43000</td>\n",
       "      <td>Diesel</td>\n",
       "      <td>Dealer</td>\n",
       "      <td>Manual</td>\n",
       "      <td>0</td>\n",
       "      <td>5</td>\n",
       "      <td>7315.0</td>\n",
       "      <td>14691.6</td>\n",
       "      <td>Maruti Suzuki</td>\n",
       "      <td>India</td>\n",
       "    </tr>\n",
       "    <tr>\n",
       "      <th>2</th>\n",
       "      <td>ciaz</td>\n",
       "      <td>6900</td>\n",
       "      <td>Petrol</td>\n",
       "      <td>Dealer</td>\n",
       "      <td>Manual</td>\n",
       "      <td>0</td>\n",
       "      <td>1</td>\n",
       "      <td>11165.0</td>\n",
       "      <td>15169.0</td>\n",
       "      <td>Maruti Suzuki</td>\n",
       "      <td>India</td>\n",
       "    </tr>\n",
       "    <tr>\n",
       "      <th>3</th>\n",
       "      <td>wagon r</td>\n",
       "      <td>5200</td>\n",
       "      <td>Petrol</td>\n",
       "      <td>Dealer</td>\n",
       "      <td>Manual</td>\n",
       "      <td>0</td>\n",
       "      <td>7</td>\n",
       "      <td>4389.0</td>\n",
       "      <td>6391.0</td>\n",
       "      <td>Maruti Suzuki</td>\n",
       "      <td>India</td>\n",
       "    </tr>\n",
       "    <tr>\n",
       "      <th>4</th>\n",
       "      <td>swift</td>\n",
       "      <td>42450</td>\n",
       "      <td>Diesel</td>\n",
       "      <td>Dealer</td>\n",
       "      <td>Manual</td>\n",
       "      <td>0</td>\n",
       "      <td>4</td>\n",
       "      <td>7084.0</td>\n",
       "      <td>10579.8</td>\n",
       "      <td>Maruti Suzuki</td>\n",
       "      <td>India</td>\n",
       "    </tr>\n",
       "  </tbody>\n",
       "</table>\n",
       "</div>"
      ],
      "text/plain": [
       "  Car_Name  Kms_Driven Fuel_Type Seller_Type Transmission  Owner  Car_years  \\\n",
       "0     ritz       27000    Petrol      Dealer       Manual      0          4   \n",
       "1      sx4       43000    Diesel      Dealer       Manual      0          5   \n",
       "2     ciaz        6900    Petrol      Dealer       Manual      0          1   \n",
       "3  wagon r        5200    Petrol      Dealer       Manual      0          7   \n",
       "4    swift       42450    Diesel      Dealer       Manual      0          4   \n",
       "\n",
       "   Selling_Price_USD  Present_Price_USD          Brand Country_of_Origin  \n",
       "0             5159.0             8608.6  Maruti Suzuki             India  \n",
       "1             7315.0            14691.6  Maruti Suzuki             India  \n",
       "2            11165.0            15169.0  Maruti Suzuki             India  \n",
       "3             4389.0             6391.0  Maruti Suzuki             India  \n",
       "4             7084.0            10579.8  Maruti Suzuki             India  "
      ]
     },
     "execution_count": 16,
     "metadata": {},
     "output_type": "execute_result"
    }
   ],
   "source": [
    "df = merged_data\n",
    "df = df.drop(['car_name'],axis=1)\n",
    "df.head()"
   ]
  },
  {
   "cell_type": "markdown",
   "id": "df1d68a9-f7f2-4482-9aa5-36a75eeb212d",
   "metadata": {},
   "source": [
    "## Dealing With Categorical Variables"
   ]
  },
  {
   "cell_type": "code",
   "execution_count": 17,
   "id": "3bf7fe9e-0297-4d98-8ec3-3013aa400ed5",
   "metadata": {},
   "outputs": [
    {
     "data": {
      "text/plain": [
       "Index(['Car_Name', 'Kms_Driven', 'Fuel_Type', 'Seller_Type', 'Transmission',\n",
       "       'Owner', 'Car_years', 'Selling_Price_USD', 'Present_Price_USD', 'Brand',\n",
       "       'Country_of_Origin'],\n",
       "      dtype='object')"
      ]
     },
     "execution_count": 17,
     "metadata": {},
     "output_type": "execute_result"
    }
   ],
   "source": [
    "#Lets Check The Columns in df\n",
    "df.columns"
   ]
  },
  {
   "cell_type": "code",
   "execution_count": 18,
   "id": "5d62db95-5ebd-4a8a-a773-67c1d5037cb9",
   "metadata": {},
   "outputs": [],
   "source": [
    "#Lets transform categorical values into numerical translations\n",
    "Fuel = pd.get_dummies(df['Fuel_Type'])\n",
    "Transmission = pd.get_dummies(df['Transmission'],drop_first=True)\n",
    "Seller= pd.get_dummies(df['Seller_Type'],drop_first=True)\n",
    "Brand = pd.get_dummies(df['Brand'])\n",
    "Country = pd.get_dummies(df['Country_of_Origin'])"
   ]
  },
  {
   "cell_type": "code",
   "execution_count": 19,
   "id": "ae8958fa-fc72-4d3e-a06a-0ea2d7364eda",
   "metadata": {},
   "outputs": [],
   "source": [
    "#Drop fuel row from one record only\n",
    "Fuel.drop('CNG',axis=1,inplace=True)"
   ]
  },
  {
   "cell_type": "code",
   "execution_count": 20,
   "id": "40fd6ee9-a7d1-4462-b7e9-8e28f594817c",
   "metadata": {
    "tags": []
   },
   "outputs": [
    {
     "data": {
      "text/html": [
       "<div>\n",
       "<style scoped>\n",
       "    .dataframe tbody tr th:only-of-type {\n",
       "        vertical-align: middle;\n",
       "    }\n",
       "\n",
       "    .dataframe tbody tr th {\n",
       "        vertical-align: top;\n",
       "    }\n",
       "\n",
       "    .dataframe thead th {\n",
       "        text-align: right;\n",
       "    }\n",
       "</style>\n",
       "<table border=\"1\" class=\"dataframe\">\n",
       "  <thead>\n",
       "    <tr style=\"text-align: right;\">\n",
       "      <th></th>\n",
       "      <th>Car_Name</th>\n",
       "      <th>Kms_Driven</th>\n",
       "      <th>Fuel_Type</th>\n",
       "      <th>Seller_Type</th>\n",
       "      <th>Transmission</th>\n",
       "      <th>Owner</th>\n",
       "      <th>Car_years</th>\n",
       "      <th>Selling_Price_USD</th>\n",
       "      <th>Present_Price_USD</th>\n",
       "      <th>Brand</th>\n",
       "      <th>...</th>\n",
       "      <th>Mahindra</th>\n",
       "      <th>Maruti Suzuki</th>\n",
       "      <th>Royal Enfield</th>\n",
       "      <th>Toyota</th>\n",
       "      <th>UM</th>\n",
       "      <th>Austria</th>\n",
       "      <th>India</th>\n",
       "      <th>Japan</th>\n",
       "      <th>South Korea</th>\n",
       "      <th>United States</th>\n",
       "    </tr>\n",
       "  </thead>\n",
       "  <tbody>\n",
       "    <tr>\n",
       "      <th>0</th>\n",
       "      <td>ritz</td>\n",
       "      <td>27000</td>\n",
       "      <td>Petrol</td>\n",
       "      <td>Dealer</td>\n",
       "      <td>Manual</td>\n",
       "      <td>0</td>\n",
       "      <td>4</td>\n",
       "      <td>5159.0</td>\n",
       "      <td>8608.6</td>\n",
       "      <td>Maruti Suzuki</td>\n",
       "      <td>...</td>\n",
       "      <td>0</td>\n",
       "      <td>1</td>\n",
       "      <td>0</td>\n",
       "      <td>0</td>\n",
       "      <td>0</td>\n",
       "      <td>0</td>\n",
       "      <td>1</td>\n",
       "      <td>0</td>\n",
       "      <td>0</td>\n",
       "      <td>0</td>\n",
       "    </tr>\n",
       "    <tr>\n",
       "      <th>1</th>\n",
       "      <td>sx4</td>\n",
       "      <td>43000</td>\n",
       "      <td>Diesel</td>\n",
       "      <td>Dealer</td>\n",
       "      <td>Manual</td>\n",
       "      <td>0</td>\n",
       "      <td>5</td>\n",
       "      <td>7315.0</td>\n",
       "      <td>14691.6</td>\n",
       "      <td>Maruti Suzuki</td>\n",
       "      <td>...</td>\n",
       "      <td>0</td>\n",
       "      <td>1</td>\n",
       "      <td>0</td>\n",
       "      <td>0</td>\n",
       "      <td>0</td>\n",
       "      <td>0</td>\n",
       "      <td>1</td>\n",
       "      <td>0</td>\n",
       "      <td>0</td>\n",
       "      <td>0</td>\n",
       "    </tr>\n",
       "    <tr>\n",
       "      <th>2</th>\n",
       "      <td>ciaz</td>\n",
       "      <td>6900</td>\n",
       "      <td>Petrol</td>\n",
       "      <td>Dealer</td>\n",
       "      <td>Manual</td>\n",
       "      <td>0</td>\n",
       "      <td>1</td>\n",
       "      <td>11165.0</td>\n",
       "      <td>15169.0</td>\n",
       "      <td>Maruti Suzuki</td>\n",
       "      <td>...</td>\n",
       "      <td>0</td>\n",
       "      <td>1</td>\n",
       "      <td>0</td>\n",
       "      <td>0</td>\n",
       "      <td>0</td>\n",
       "      <td>0</td>\n",
       "      <td>1</td>\n",
       "      <td>0</td>\n",
       "      <td>0</td>\n",
       "      <td>0</td>\n",
       "    </tr>\n",
       "    <tr>\n",
       "      <th>3</th>\n",
       "      <td>wagon r</td>\n",
       "      <td>5200</td>\n",
       "      <td>Petrol</td>\n",
       "      <td>Dealer</td>\n",
       "      <td>Manual</td>\n",
       "      <td>0</td>\n",
       "      <td>7</td>\n",
       "      <td>4389.0</td>\n",
       "      <td>6391.0</td>\n",
       "      <td>Maruti Suzuki</td>\n",
       "      <td>...</td>\n",
       "      <td>0</td>\n",
       "      <td>1</td>\n",
       "      <td>0</td>\n",
       "      <td>0</td>\n",
       "      <td>0</td>\n",
       "      <td>0</td>\n",
       "      <td>1</td>\n",
       "      <td>0</td>\n",
       "      <td>0</td>\n",
       "      <td>0</td>\n",
       "    </tr>\n",
       "    <tr>\n",
       "      <th>4</th>\n",
       "      <td>swift</td>\n",
       "      <td>42450</td>\n",
       "      <td>Diesel</td>\n",
       "      <td>Dealer</td>\n",
       "      <td>Manual</td>\n",
       "      <td>0</td>\n",
       "      <td>4</td>\n",
       "      <td>7084.0</td>\n",
       "      <td>10579.8</td>\n",
       "      <td>Maruti Suzuki</td>\n",
       "      <td>...</td>\n",
       "      <td>0</td>\n",
       "      <td>1</td>\n",
       "      <td>0</td>\n",
       "      <td>0</td>\n",
       "      <td>0</td>\n",
       "      <td>0</td>\n",
       "      <td>1</td>\n",
       "      <td>0</td>\n",
       "      <td>0</td>\n",
       "      <td>0</td>\n",
       "    </tr>\n",
       "  </tbody>\n",
       "</table>\n",
       "<p>5 rows × 28 columns</p>\n",
       "</div>"
      ],
      "text/plain": [
       "  Car_Name  Kms_Driven Fuel_Type Seller_Type Transmission  Owner  Car_years  \\\n",
       "0     ritz       27000    Petrol      Dealer       Manual      0          4   \n",
       "1      sx4       43000    Diesel      Dealer       Manual      0          5   \n",
       "2     ciaz        6900    Petrol      Dealer       Manual      0          1   \n",
       "3  wagon r        5200    Petrol      Dealer       Manual      0          7   \n",
       "4    swift       42450    Diesel      Dealer       Manual      0          4   \n",
       "\n",
       "   Selling_Price_USD  Present_Price_USD          Brand  ... Mahindra  \\\n",
       "0             5159.0             8608.6  Maruti Suzuki  ...        0   \n",
       "1             7315.0            14691.6  Maruti Suzuki  ...        0   \n",
       "2            11165.0            15169.0  Maruti Suzuki  ...        0   \n",
       "3             4389.0             6391.0  Maruti Suzuki  ...        0   \n",
       "4             7084.0            10579.8  Maruti Suzuki  ...        0   \n",
       "\n",
       "   Maruti Suzuki  Royal Enfield  Toyota  UM  Austria  India  Japan  \\\n",
       "0              1              0       0   0        0      1      0   \n",
       "1              1              0       0   0        0      1      0   \n",
       "2              1              0       0   0        0      1      0   \n",
       "3              1              0       0   0        0      1      0   \n",
       "4              1              0       0   0        0      1      0   \n",
       "\n",
       "   South Korea  United States  \n",
       "0            0              0  \n",
       "1            0              0  \n",
       "2            0              0  \n",
       "3            0              0  \n",
       "4            0              0  \n",
       "\n",
       "[5 rows x 28 columns]"
      ]
     },
     "execution_count": 20,
     "metadata": {},
     "output_type": "execute_result"
    }
   ],
   "source": [
    "#Concat to the dataframe\n",
    "df= pd.concat([df,Fuel,Transmission,Seller,Brand,Country],axis=1)\n",
    "df.head()"
   ]
  },
  {
   "cell_type": "code",
   "execution_count": 21,
   "id": "4f1bbde3-35e2-49fe-955f-406bdedee1fb",
   "metadata": {},
   "outputs": [
    {
     "data": {
      "text/html": [
       "<div>\n",
       "<style scoped>\n",
       "    .dataframe tbody tr th:only-of-type {\n",
       "        vertical-align: middle;\n",
       "    }\n",
       "\n",
       "    .dataframe tbody tr th {\n",
       "        vertical-align: top;\n",
       "    }\n",
       "\n",
       "    .dataframe thead th {\n",
       "        text-align: right;\n",
       "    }\n",
       "</style>\n",
       "<table border=\"1\" class=\"dataframe\">\n",
       "  <thead>\n",
       "    <tr style=\"text-align: right;\">\n",
       "      <th></th>\n",
       "      <th>Kms_Driven</th>\n",
       "      <th>Owner</th>\n",
       "      <th>Car_years</th>\n",
       "      <th>Selling_Price_USD</th>\n",
       "      <th>Present_Price_USD</th>\n",
       "      <th>Diesel</th>\n",
       "      <th>Petrol</th>\n",
       "      <th>Manual</th>\n",
       "      <th>Individual</th>\n",
       "      <th>Bajaj</th>\n",
       "      <th>...</th>\n",
       "      <th>Mahindra</th>\n",
       "      <th>Maruti Suzuki</th>\n",
       "      <th>Royal Enfield</th>\n",
       "      <th>Toyota</th>\n",
       "      <th>UM</th>\n",
       "      <th>Austria</th>\n",
       "      <th>India</th>\n",
       "      <th>Japan</th>\n",
       "      <th>South Korea</th>\n",
       "      <th>United States</th>\n",
       "    </tr>\n",
       "  </thead>\n",
       "  <tbody>\n",
       "    <tr>\n",
       "      <th>0</th>\n",
       "      <td>27000</td>\n",
       "      <td>0</td>\n",
       "      <td>4</td>\n",
       "      <td>5159.0</td>\n",
       "      <td>8608.6</td>\n",
       "      <td>0</td>\n",
       "      <td>1</td>\n",
       "      <td>1</td>\n",
       "      <td>0</td>\n",
       "      <td>0</td>\n",
       "      <td>...</td>\n",
       "      <td>0</td>\n",
       "      <td>1</td>\n",
       "      <td>0</td>\n",
       "      <td>0</td>\n",
       "      <td>0</td>\n",
       "      <td>0</td>\n",
       "      <td>1</td>\n",
       "      <td>0</td>\n",
       "      <td>0</td>\n",
       "      <td>0</td>\n",
       "    </tr>\n",
       "    <tr>\n",
       "      <th>1</th>\n",
       "      <td>43000</td>\n",
       "      <td>0</td>\n",
       "      <td>5</td>\n",
       "      <td>7315.0</td>\n",
       "      <td>14691.6</td>\n",
       "      <td>1</td>\n",
       "      <td>0</td>\n",
       "      <td>1</td>\n",
       "      <td>0</td>\n",
       "      <td>0</td>\n",
       "      <td>...</td>\n",
       "      <td>0</td>\n",
       "      <td>1</td>\n",
       "      <td>0</td>\n",
       "      <td>0</td>\n",
       "      <td>0</td>\n",
       "      <td>0</td>\n",
       "      <td>1</td>\n",
       "      <td>0</td>\n",
       "      <td>0</td>\n",
       "      <td>0</td>\n",
       "    </tr>\n",
       "    <tr>\n",
       "      <th>2</th>\n",
       "      <td>6900</td>\n",
       "      <td>0</td>\n",
       "      <td>1</td>\n",
       "      <td>11165.0</td>\n",
       "      <td>15169.0</td>\n",
       "      <td>0</td>\n",
       "      <td>1</td>\n",
       "      <td>1</td>\n",
       "      <td>0</td>\n",
       "      <td>0</td>\n",
       "      <td>...</td>\n",
       "      <td>0</td>\n",
       "      <td>1</td>\n",
       "      <td>0</td>\n",
       "      <td>0</td>\n",
       "      <td>0</td>\n",
       "      <td>0</td>\n",
       "      <td>1</td>\n",
       "      <td>0</td>\n",
       "      <td>0</td>\n",
       "      <td>0</td>\n",
       "    </tr>\n",
       "    <tr>\n",
       "      <th>3</th>\n",
       "      <td>5200</td>\n",
       "      <td>0</td>\n",
       "      <td>7</td>\n",
       "      <td>4389.0</td>\n",
       "      <td>6391.0</td>\n",
       "      <td>0</td>\n",
       "      <td>1</td>\n",
       "      <td>1</td>\n",
       "      <td>0</td>\n",
       "      <td>0</td>\n",
       "      <td>...</td>\n",
       "      <td>0</td>\n",
       "      <td>1</td>\n",
       "      <td>0</td>\n",
       "      <td>0</td>\n",
       "      <td>0</td>\n",
       "      <td>0</td>\n",
       "      <td>1</td>\n",
       "      <td>0</td>\n",
       "      <td>0</td>\n",
       "      <td>0</td>\n",
       "    </tr>\n",
       "    <tr>\n",
       "      <th>4</th>\n",
       "      <td>42450</td>\n",
       "      <td>0</td>\n",
       "      <td>4</td>\n",
       "      <td>7084.0</td>\n",
       "      <td>10579.8</td>\n",
       "      <td>1</td>\n",
       "      <td>0</td>\n",
       "      <td>1</td>\n",
       "      <td>0</td>\n",
       "      <td>0</td>\n",
       "      <td>...</td>\n",
       "      <td>0</td>\n",
       "      <td>1</td>\n",
       "      <td>0</td>\n",
       "      <td>0</td>\n",
       "      <td>0</td>\n",
       "      <td>0</td>\n",
       "      <td>1</td>\n",
       "      <td>0</td>\n",
       "      <td>0</td>\n",
       "      <td>0</td>\n",
       "    </tr>\n",
       "  </tbody>\n",
       "</table>\n",
       "<p>5 rows × 22 columns</p>\n",
       "</div>"
      ],
      "text/plain": [
       "   Kms_Driven  Owner  Car_years  Selling_Price_USD  Present_Price_USD  Diesel  \\\n",
       "0       27000      0          4             5159.0             8608.6       0   \n",
       "1       43000      0          5             7315.0            14691.6       1   \n",
       "2        6900      0          1            11165.0            15169.0       0   \n",
       "3        5200      0          7             4389.0             6391.0       0   \n",
       "4       42450      0          4             7084.0            10579.8       1   \n",
       "\n",
       "   Petrol  Manual  Individual  Bajaj  ...  Mahindra  Maruti Suzuki  \\\n",
       "0       1       1           0      0  ...         0              1   \n",
       "1       0       1           0      0  ...         0              1   \n",
       "2       1       1           0      0  ...         0              1   \n",
       "3       1       1           0      0  ...         0              1   \n",
       "4       0       1           0      0  ...         0              1   \n",
       "\n",
       "   Royal Enfield  Toyota  UM  Austria  India  Japan  South Korea  \\\n",
       "0              0       0   0        0      1      0            0   \n",
       "1              0       0   0        0      1      0            0   \n",
       "2              0       0   0        0      1      0            0   \n",
       "3              0       0   0        0      1      0            0   \n",
       "4              0       0   0        0      1      0            0   \n",
       "\n",
       "   United States  \n",
       "0              0  \n",
       "1              0  \n",
       "2              0  \n",
       "3              0  \n",
       "4              0  \n",
       "\n",
       "[5 rows x 22 columns]"
      ]
     },
     "execution_count": 21,
     "metadata": {},
     "output_type": "execute_result"
    }
   ],
   "source": [
    "#Let's drop some columns that doesn't seem to add much value to our analysis and hence dropping the column\n",
    "df.drop(['Fuel_Type','Seller_Type','Transmission','Brand','Country_of_Origin'],axis=1,inplace=True)\n",
    "df= df.drop('Car_Name',axis=1)\n",
    "df.head()"
   ]
  },
  {
   "cell_type": "markdown",
   "id": "6ae65fb4-780b-4e4a-a0ba-878c54189227",
   "metadata": {
    "tags": []
   },
   "source": [
    "## Splitting the Data into Test and Train"
   ]
  },
  {
   "cell_type": "code",
   "execution_count": 22,
   "id": "6a0ab532-e2d0-4a56-bcab-95058be5e7dd",
   "metadata": {},
   "outputs": [],
   "source": [
    "from sklearn.model_selection import train_test_split\n",
    "\n",
    "np.random.seed(0)\n",
    "df_train, df_test = train_test_split(df, test_size = 0.3, random_state = 100)"
   ]
  },
  {
   "cell_type": "code",
   "execution_count": 23,
   "id": "a663a16f-b265-43de-ae71-c58d52521660",
   "metadata": {},
   "outputs": [],
   "source": [
    "num_vars=['Selling_Price_USD','Present_Price_USD','Kms_Driven']"
   ]
  },
  {
   "cell_type": "code",
   "execution_count": 24,
   "id": "a43eb07d-3ee8-422e-9691-2baa454e13d7",
   "metadata": {},
   "outputs": [],
   "source": [
    "from sklearn.preprocessing import StandardScaler\n",
    "scaler= StandardScaler()"
   ]
  },
  {
   "cell_type": "code",
   "execution_count": 25,
   "id": "343938d6-f899-4ef4-b4b3-7d31d452f9fa",
   "metadata": {},
   "outputs": [],
   "source": [
    "df_train[num_vars]= scaler.fit_transform(df_train[num_vars])\n",
    "df_test[num_vars]= scaler.transform(df_test[num_vars])"
   ]
  },
  {
   "cell_type": "markdown",
   "id": "9ee78290-5b92-432b-add7-2980c9eef563",
   "metadata": {},
   "source": [
    "## Dividing dataset into Features(X) and Target(y)"
   ]
  },
  {
   "cell_type": "code",
   "execution_count": 26,
   "id": "2bba929a-2d33-4f0f-8b0c-00accbe8711d",
   "metadata": {},
   "outputs": [],
   "source": [
    "y_train = df_train.pop('Selling_Price_USD')\n",
    "X_train = df_train"
   ]
  },
  {
   "cell_type": "code",
   "execution_count": 27,
   "id": "f6a5be20-b935-46d5-ada7-d063ad528c1e",
   "metadata": {},
   "outputs": [],
   "source": [
    "from sklearn.feature_selection import RFE\n",
    "from sklearn.linear_model import LinearRegression"
   ]
  },
  {
   "cell_type": "code",
   "execution_count": 28,
   "id": "77840b46-590e-4839-9eb6-fffd7917c899",
   "metadata": {},
   "outputs": [],
   "source": [
    "lm= LinearRegression()\n",
    "lm.fit(X_train, y_train)\n",
    "\n",
    "rfe = RFE(estimator=lm, n_features_to_select=22)\n",
    "rfe = rfe.fit(X_train, y_train)"
   ]
  },
  {
   "cell_type": "code",
   "execution_count": 29,
   "id": "cd93c5c8-23e9-4dc8-ae96-7fda398e1d50",
   "metadata": {},
   "outputs": [
    {
     "data": {
      "text/plain": [
       "[('Kms_Driven', True, 1),\n",
       " ('Owner', True, 1),\n",
       " ('Car_years', True, 1),\n",
       " ('Present_Price_USD', True, 1),\n",
       " ('Diesel', True, 1),\n",
       " ('Petrol', True, 1),\n",
       " ('Manual', True, 1),\n",
       " ('Individual', True, 1),\n",
       " ('Bajaj', True, 1),\n",
       " ('Hyosung', True, 1),\n",
       " ('KTM', True, 1),\n",
       " ('Mahindra', True, 1),\n",
       " ('Maruti Suzuki', True, 1),\n",
       " ('Royal Enfield', True, 1),\n",
       " ('Toyota', True, 1),\n",
       " ('UM', True, 1),\n",
       " ('Austria', True, 1),\n",
       " ('India', True, 1),\n",
       " ('Japan', True, 1),\n",
       " ('South Korea', True, 1),\n",
       " ('United States', True, 1)]"
      ]
     },
     "execution_count": 29,
     "metadata": {},
     "output_type": "execute_result"
    }
   ],
   "source": [
    "list(zip(X_train.columns,rfe.support_,rfe.ranking_))"
   ]
  },
  {
   "cell_type": "code",
   "execution_count": 30,
   "id": "f5a5476e-706b-49a4-823b-1af2eab97c3d",
   "metadata": {},
   "outputs": [
    {
     "data": {
      "text/plain": [
       "Index(['Kms_Driven', 'Owner', 'Car_years', 'Present_Price_USD', 'Diesel',\n",
       "       'Petrol', 'Manual', 'Individual', 'Bajaj', 'Hyosung', 'KTM', 'Mahindra',\n",
       "       'Maruti Suzuki', 'Royal Enfield', 'Toyota', 'UM', 'Austria', 'India',\n",
       "       'Japan', 'South Korea', 'United States'],\n",
       "      dtype='object')"
      ]
     },
     "execution_count": 30,
     "metadata": {},
     "output_type": "execute_result"
    }
   ],
   "source": [
    "col = X_train.columns[rfe.support_]\n",
    "col"
   ]
  },
  {
   "cell_type": "code",
   "execution_count": 31,
   "id": "7aa276b5-ab8f-47c4-904e-9148cb521f9c",
   "metadata": {},
   "outputs": [],
   "source": [
    "X_train_rfe = X_train[col]"
   ]
  },
  {
   "cell_type": "code",
   "execution_count": 32,
   "id": "ebe09f14-c026-41f4-a078-c5b53a11fceb",
   "metadata": {},
   "outputs": [
    {
     "data": {
      "text/html": [
       "<table class=\"simpletable\">\n",
       "<caption>OLS Regression Results</caption>\n",
       "<tr>\n",
       "  <th>Dep. Variable:</th>    <td>Selling_Price_USD</td> <th>  R-squared:         </th> <td>   0.898</td>\n",
       "</tr>\n",
       "<tr>\n",
       "  <th>Model:</th>                   <td>OLS</td>        <th>  Adj. R-squared:    </th> <td>   0.889</td>\n",
       "</tr>\n",
       "<tr>\n",
       "  <th>Method:</th>             <td>Least Squares</td>   <th>  F-statistic:       </th> <td>   105.7</td>\n",
       "</tr>\n",
       "<tr>\n",
       "  <th>Date:</th>             <td>Sat, 18 Mar 2023</td>  <th>  Prob (F-statistic):</th> <td>3.21e-86</td>\n",
       "</tr>\n",
       "<tr>\n",
       "  <th>Time:</th>                 <td>00:59:55</td>      <th>  Log-Likelihood:    </th> <td> -58.759</td>\n",
       "</tr>\n",
       "<tr>\n",
       "  <th>No. Observations:</th>      <td>   210</td>       <th>  AIC:               </th> <td>   151.5</td>\n",
       "</tr>\n",
       "<tr>\n",
       "  <th>Df Residuals:</th>          <td>   193</td>       <th>  BIC:               </th> <td>   208.4</td>\n",
       "</tr>\n",
       "<tr>\n",
       "  <th>Df Model:</th>              <td>    16</td>       <th>                     </th>     <td> </td>   \n",
       "</tr>\n",
       "<tr>\n",
       "  <th>Covariance Type:</th>      <td>nonrobust</td>     <th>                     </th>     <td> </td>   \n",
       "</tr>\n",
       "</table>\n",
       "<table class=\"simpletable\">\n",
       "<tr>\n",
       "          <td></td>             <th>coef</th>     <th>std err</th>      <th>t</th>      <th>P>|t|</th>  <th>[0.025</th>    <th>0.975]</th>  \n",
       "</tr>\n",
       "<tr>\n",
       "  <th>const</th>             <td>    0.5761</td> <td>    0.352</td> <td>    1.637</td> <td> 0.103</td> <td>   -0.118</td> <td>    1.270</td>\n",
       "</tr>\n",
       "<tr>\n",
       "  <th>Kms_Driven</th>        <td>   -0.0394</td> <td>    0.028</td> <td>   -1.407</td> <td> 0.161</td> <td>   -0.095</td> <td>    0.016</td>\n",
       "</tr>\n",
       "<tr>\n",
       "  <th>Owner</th>             <td>    0.1481</td> <td>    0.141</td> <td>    1.052</td> <td> 0.294</td> <td>   -0.129</td> <td>    0.426</td>\n",
       "</tr>\n",
       "<tr>\n",
       "  <th>Car_years</th>         <td>   -0.0748</td> <td>    0.010</td> <td>   -7.823</td> <td> 0.000</td> <td>   -0.094</td> <td>   -0.056</td>\n",
       "</tr>\n",
       "<tr>\n",
       "  <th>Present_Price_USD</th> <td>    0.7627</td> <td>    0.035</td> <td>   21.925</td> <td> 0.000</td> <td>    0.694</td> <td>    0.831</td>\n",
       "</tr>\n",
       "<tr>\n",
       "  <th>Diesel</th>            <td>    0.4920</td> <td>    0.343</td> <td>    1.434</td> <td> 0.153</td> <td>   -0.185</td> <td>    1.169</td>\n",
       "</tr>\n",
       "<tr>\n",
       "  <th>Petrol</th>            <td>    0.0656</td> <td>    0.340</td> <td>    0.193</td> <td> 0.847</td> <td>   -0.605</td> <td>    0.736</td>\n",
       "</tr>\n",
       "<tr>\n",
       "  <th>Manual</th>            <td>   -0.3186</td> <td>    0.071</td> <td>   -4.465</td> <td> 0.000</td> <td>   -0.459</td> <td>   -0.178</td>\n",
       "</tr>\n",
       "<tr>\n",
       "  <th>Individual</th>        <td>   -0.2151</td> <td>    0.067</td> <td>   -3.226</td> <td> 0.001</td> <td>   -0.347</td> <td>   -0.084</td>\n",
       "</tr>\n",
       "<tr>\n",
       "  <th>Bajaj</th>             <td>   -0.1122</td> <td>    0.203</td> <td>   -0.552</td> <td> 0.582</td> <td>   -0.513</td> <td>    0.289</td>\n",
       "</tr>\n",
       "<tr>\n",
       "  <th>Hyosung</th>           <td>   -0.1326</td> <td>    0.181</td> <td>   -0.731</td> <td> 0.466</td> <td>   -0.490</td> <td>    0.225</td>\n",
       "</tr>\n",
       "<tr>\n",
       "  <th>KTM</th>               <td>   -0.0637</td> <td>    0.121</td> <td>   -0.525</td> <td> 0.600</td> <td>   -0.303</td> <td>    0.176</td>\n",
       "</tr>\n",
       "<tr>\n",
       "  <th>Mahindra</th>          <td>   -0.0450</td> <td>    0.274</td> <td>   -0.164</td> <td> 0.870</td> <td>   -0.585</td> <td>    0.495</td>\n",
       "</tr>\n",
       "<tr>\n",
       "  <th>Maruti Suzuki</th>     <td>    0.0288</td> <td>    0.108</td> <td>    0.267</td> <td> 0.790</td> <td>   -0.183</td> <td>    0.241</td>\n",
       "</tr>\n",
       "<tr>\n",
       "  <th>Royal Enfield</th>     <td>    0.0522</td> <td>    0.111</td> <td>    0.469</td> <td> 0.640</td> <td>   -0.167</td> <td>    0.272</td>\n",
       "</tr>\n",
       "<tr>\n",
       "  <th>Toyota</th>            <td>   -0.0585</td> <td>    0.042</td> <td>   -1.401</td> <td> 0.163</td> <td>   -0.141</td> <td>    0.024</td>\n",
       "</tr>\n",
       "<tr>\n",
       "  <th>UM</th>                <td>   -0.0761</td> <td>    0.170</td> <td>   -0.448</td> <td> 0.654</td> <td>   -0.411</td> <td>    0.259</td>\n",
       "</tr>\n",
       "<tr>\n",
       "  <th>Austria</th>           <td>   -0.0637</td> <td>    0.121</td> <td>   -0.525</td> <td> 0.600</td> <td>   -0.303</td> <td>    0.176</td>\n",
       "</tr>\n",
       "<tr>\n",
       "  <th>India</th>             <td>   -0.0763</td> <td>    0.091</td> <td>   -0.842</td> <td> 0.401</td> <td>   -0.255</td> <td>    0.102</td>\n",
       "</tr>\n",
       "<tr>\n",
       "  <th>Japan</th>             <td>   -0.0585</td> <td>    0.042</td> <td>   -1.401</td> <td> 0.163</td> <td>   -0.141</td> <td>    0.024</td>\n",
       "</tr>\n",
       "<tr>\n",
       "  <th>South Korea</th>       <td>   -0.1326</td> <td>    0.181</td> <td>   -0.731</td> <td> 0.466</td> <td>   -0.490</td> <td>    0.225</td>\n",
       "</tr>\n",
       "<tr>\n",
       "  <th>United States</th>     <td>   -0.0761</td> <td>    0.170</td> <td>   -0.448</td> <td> 0.654</td> <td>   -0.411</td> <td>    0.259</td>\n",
       "</tr>\n",
       "</table>\n",
       "<table class=\"simpletable\">\n",
       "<tr>\n",
       "  <th>Omnibus:</th>       <td>40.893</td> <th>  Durbin-Watson:     </th> <td>   1.914</td>\n",
       "</tr>\n",
       "<tr>\n",
       "  <th>Prob(Omnibus):</th> <td> 0.000</td> <th>  Jarque-Bera (JB):  </th> <td> 137.318</td>\n",
       "</tr>\n",
       "<tr>\n",
       "  <th>Skew:</th>          <td> 0.745</td> <th>  Prob(JB):          </th> <td>1.52e-30</td>\n",
       "</tr>\n",
       "<tr>\n",
       "  <th>Kurtosis:</th>      <td> 6.671</td> <th>  Cond. No.          </th> <td>9.86e+17</td>\n",
       "</tr>\n",
       "</table><br/><br/>Notes:<br/>[1] Standard Errors assume that the covariance matrix of the errors is correctly specified.<br/>[2] The smallest eigenvalue is 7.05e-33. This might indicate that there are<br/>strong multicollinearity problems or that the design matrix is singular."
      ],
      "text/plain": [
       "<class 'statsmodels.iolib.summary.Summary'>\n",
       "\"\"\"\n",
       "                            OLS Regression Results                            \n",
       "==============================================================================\n",
       "Dep. Variable:      Selling_Price_USD   R-squared:                       0.898\n",
       "Model:                            OLS   Adj. R-squared:                  0.889\n",
       "Method:                 Least Squares   F-statistic:                     105.7\n",
       "Date:                Sat, 18 Mar 2023   Prob (F-statistic):           3.21e-86\n",
       "Time:                        00:59:55   Log-Likelihood:                -58.759\n",
       "No. Observations:                 210   AIC:                             151.5\n",
       "Df Residuals:                     193   BIC:                             208.4\n",
       "Df Model:                          16                                         \n",
       "Covariance Type:            nonrobust                                         \n",
       "=====================================================================================\n",
       "                        coef    std err          t      P>|t|      [0.025      0.975]\n",
       "-------------------------------------------------------------------------------------\n",
       "const                 0.5761      0.352      1.637      0.103      -0.118       1.270\n",
       "Kms_Driven           -0.0394      0.028     -1.407      0.161      -0.095       0.016\n",
       "Owner                 0.1481      0.141      1.052      0.294      -0.129       0.426\n",
       "Car_years            -0.0748      0.010     -7.823      0.000      -0.094      -0.056\n",
       "Present_Price_USD     0.7627      0.035     21.925      0.000       0.694       0.831\n",
       "Diesel                0.4920      0.343      1.434      0.153      -0.185       1.169\n",
       "Petrol                0.0656      0.340      0.193      0.847      -0.605       0.736\n",
       "Manual               -0.3186      0.071     -4.465      0.000      -0.459      -0.178\n",
       "Individual           -0.2151      0.067     -3.226      0.001      -0.347      -0.084\n",
       "Bajaj                -0.1122      0.203     -0.552      0.582      -0.513       0.289\n",
       "Hyosung              -0.1326      0.181     -0.731      0.466      -0.490       0.225\n",
       "KTM                  -0.0637      0.121     -0.525      0.600      -0.303       0.176\n",
       "Mahindra             -0.0450      0.274     -0.164      0.870      -0.585       0.495\n",
       "Maruti Suzuki         0.0288      0.108      0.267      0.790      -0.183       0.241\n",
       "Royal Enfield         0.0522      0.111      0.469      0.640      -0.167       0.272\n",
       "Toyota               -0.0585      0.042     -1.401      0.163      -0.141       0.024\n",
       "UM                   -0.0761      0.170     -0.448      0.654      -0.411       0.259\n",
       "Austria              -0.0637      0.121     -0.525      0.600      -0.303       0.176\n",
       "India                -0.0763      0.091     -0.842      0.401      -0.255       0.102\n",
       "Japan                -0.0585      0.042     -1.401      0.163      -0.141       0.024\n",
       "South Korea          -0.1326      0.181     -0.731      0.466      -0.490       0.225\n",
       "United States        -0.0761      0.170     -0.448      0.654      -0.411       0.259\n",
       "==============================================================================\n",
       "Omnibus:                       40.893   Durbin-Watson:                   1.914\n",
       "Prob(Omnibus):                  0.000   Jarque-Bera (JB):              137.318\n",
       "Skew:                           0.745   Prob(JB):                     1.52e-30\n",
       "Kurtosis:                       6.671   Cond. No.                     9.86e+17\n",
       "==============================================================================\n",
       "\n",
       "Notes:\n",
       "[1] Standard Errors assume that the covariance matrix of the errors is correctly specified.\n",
       "[2] The smallest eigenvalue is 7.05e-33. This might indicate that there are\n",
       "strong multicollinearity problems or that the design matrix is singular.\n",
       "\"\"\""
      ]
     },
     "execution_count": 32,
     "metadata": {},
     "output_type": "execute_result"
    }
   ],
   "source": [
    "import statsmodels.api as sm\n",
    "X_train_rfe= sm.add_constant(X_train_rfe)\n",
    "model = sm.OLS(y_train,X_train_rfe).fit()\n",
    "model.summary()"
   ]
  },
  {
   "cell_type": "code",
   "execution_count": 33,
   "id": "2b5409a2-2a0f-4b93-bd41-9e73520757ac",
   "metadata": {},
   "outputs": [
    {
     "data": {
      "text/html": [
       "<table class=\"simpletable\">\n",
       "<caption>OLS Regression Results</caption>\n",
       "<tr>\n",
       "  <th>Dep. Variable:</th>    <td>Selling_Price_USD</td> <th>  R-squared:         </th> <td>   0.895</td>\n",
       "</tr>\n",
       "<tr>\n",
       "  <th>Model:</th>                   <td>OLS</td>        <th>  Adj. R-squared:    </th> <td>   0.892</td>\n",
       "</tr>\n",
       "<tr>\n",
       "  <th>Method:</th>             <td>Least Squares</td>   <th>  F-statistic:       </th> <td>   288.7</td>\n",
       "</tr>\n",
       "<tr>\n",
       "  <th>Date:</th>             <td>Sat, 18 Mar 2023</td>  <th>  Prob (F-statistic):</th> <td>1.74e-96</td>\n",
       "</tr>\n",
       "<tr>\n",
       "  <th>Time:</th>                 <td>00:59:55</td>      <th>  Log-Likelihood:    </th> <td> -61.237</td>\n",
       "</tr>\n",
       "<tr>\n",
       "  <th>No. Observations:</th>      <td>   210</td>       <th>  AIC:               </th> <td>   136.5</td>\n",
       "</tr>\n",
       "<tr>\n",
       "  <th>Df Residuals:</th>          <td>   203</td>       <th>  BIC:               </th> <td>   159.9</td>\n",
       "</tr>\n",
       "<tr>\n",
       "  <th>Df Model:</th>              <td>     6</td>       <th>                     </th>     <td> </td>   \n",
       "</tr>\n",
       "<tr>\n",
       "  <th>Covariance Type:</th>      <td>nonrobust</td>     <th>                     </th>     <td> </td>   \n",
       "</tr>\n",
       "</table>\n",
       "<table class=\"simpletable\">\n",
       "<tr>\n",
       "          <td></td>             <th>coef</th>     <th>std err</th>      <th>t</th>      <th>P>|t|</th>  <th>[0.025</th>    <th>0.975]</th>  \n",
       "</tr>\n",
       "<tr>\n",
       "  <th>const</th>             <td>    0.6107</td> <td>    0.077</td> <td>    7.882</td> <td> 0.000</td> <td>    0.458</td> <td>    0.763</td>\n",
       "</tr>\n",
       "<tr>\n",
       "  <th>Kms_Driven</th>        <td>   -0.0426</td> <td>    0.027</td> <td>   -1.558</td> <td> 0.121</td> <td>   -0.097</td> <td>    0.011</td>\n",
       "</tr>\n",
       "<tr>\n",
       "  <th>Car_years</th>         <td>   -0.0754</td> <td>    0.009</td> <td>   -8.398</td> <td> 0.000</td> <td>   -0.093</td> <td>   -0.058</td>\n",
       "</tr>\n",
       "<tr>\n",
       "  <th>Present_Price_USD</th> <td>    0.7422</td> <td>    0.030</td> <td>   24.365</td> <td> 0.000</td> <td>    0.682</td> <td>    0.802</td>\n",
       "</tr>\n",
       "<tr>\n",
       "  <th>Diesel</th>            <td>    0.4034</td> <td>    0.067</td> <td>    5.998</td> <td> 0.000</td> <td>    0.271</td> <td>    0.536</td>\n",
       "</tr>\n",
       "<tr>\n",
       "  <th>Manual</th>            <td>   -0.3100</td> <td>    0.069</td> <td>   -4.481</td> <td> 0.000</td> <td>   -0.446</td> <td>   -0.174</td>\n",
       "</tr>\n",
       "<tr>\n",
       "  <th>Individual</th>        <td>   -0.2187</td> <td>    0.056</td> <td>   -3.918</td> <td> 0.000</td> <td>   -0.329</td> <td>   -0.109</td>\n",
       "</tr>\n",
       "</table>\n",
       "<table class=\"simpletable\">\n",
       "<tr>\n",
       "  <th>Omnibus:</th>       <td>32.782</td> <th>  Durbin-Watson:     </th> <td>   1.873</td>\n",
       "</tr>\n",
       "<tr>\n",
       "  <th>Prob(Omnibus):</th> <td> 0.000</td> <th>  Jarque-Bera (JB):  </th> <td>  97.825</td>\n",
       "</tr>\n",
       "<tr>\n",
       "  <th>Skew:</th>          <td> 0.614</td> <th>  Prob(JB):          </th> <td>5.72e-22</td>\n",
       "</tr>\n",
       "<tr>\n",
       "  <th>Kurtosis:</th>      <td> 6.110</td> <th>  Cond. No.          </th> <td>    24.5</td>\n",
       "</tr>\n",
       "</table><br/><br/>Notes:<br/>[1] Standard Errors assume that the covariance matrix of the errors is correctly specified."
      ],
      "text/plain": [
       "<class 'statsmodels.iolib.summary.Summary'>\n",
       "\"\"\"\n",
       "                            OLS Regression Results                            \n",
       "==============================================================================\n",
       "Dep. Variable:      Selling_Price_USD   R-squared:                       0.895\n",
       "Model:                            OLS   Adj. R-squared:                  0.892\n",
       "Method:                 Least Squares   F-statistic:                     288.7\n",
       "Date:                Sat, 18 Mar 2023   Prob (F-statistic):           1.74e-96\n",
       "Time:                        00:59:55   Log-Likelihood:                -61.237\n",
       "No. Observations:                 210   AIC:                             136.5\n",
       "Df Residuals:                     203   BIC:                             159.9\n",
       "Df Model:                           6                                         \n",
       "Covariance Type:            nonrobust                                         \n",
       "=====================================================================================\n",
       "                        coef    std err          t      P>|t|      [0.025      0.975]\n",
       "-------------------------------------------------------------------------------------\n",
       "const                 0.6107      0.077      7.882      0.000       0.458       0.763\n",
       "Kms_Driven           -0.0426      0.027     -1.558      0.121      -0.097       0.011\n",
       "Car_years            -0.0754      0.009     -8.398      0.000      -0.093      -0.058\n",
       "Present_Price_USD     0.7422      0.030     24.365      0.000       0.682       0.802\n",
       "Diesel                0.4034      0.067      5.998      0.000       0.271       0.536\n",
       "Manual               -0.3100      0.069     -4.481      0.000      -0.446      -0.174\n",
       "Individual           -0.2187      0.056     -3.918      0.000      -0.329      -0.109\n",
       "==============================================================================\n",
       "Omnibus:                       32.782   Durbin-Watson:                   1.873\n",
       "Prob(Omnibus):                  0.000   Jarque-Bera (JB):               97.825\n",
       "Skew:                           0.614   Prob(JB):                     5.72e-22\n",
       "Kurtosis:                       6.110   Cond. No.                         24.5\n",
       "==============================================================================\n",
       "\n",
       "Notes:\n",
       "[1] Standard Errors assume that the covariance matrix of the errors is correctly specified.\n",
       "\"\"\""
      ]
     },
     "execution_count": 33,
     "metadata": {},
     "output_type": "execute_result"
    }
   ],
   "source": [
    "#Dropping the \"Petrol\" variable which has p-value>0.05 resulting in insigificant\n",
    "X_train1= X_train_rfe.drop('Petrol',axis=1)\n",
    "X_train2= sm.add_constant(X_train1)\n",
    "model1= sm.OLS(y_train,X_train2).fit()\n",
    "model1.summary()\n",
    "\n",
    "#Dropping the \"Brands an country\" where have p-value value>0.05 resulting in insigificant.\n",
    "X_train2= X_train1.drop(['Bajaj','Hyosung','Mahindra','KTM','Maruti Suzuki','Toyota','UM','India','Japan','South Korea','Austria','United States','Maruti Suzuki','Royal Enfield'],axis=1)\n",
    "X_train3= sm.add_constant(X_train2)\n",
    "model2 = sm.OLS(y_train,X_train3).fit()\n",
    "model2.summary()\n",
    "\n",
    "#Dropping the \"Owner\" variable where have p-value >0.05 resulting in insignificant and also does not make sense to have a positive correlation\n",
    "X_train3= X_train2.drop('Owner',axis=1)\n",
    "X_train4= sm.add_constant(X_train3)\n",
    "model3= sm.OLS(y_train,X_train4).fit()\n",
    "model3.summary()"
   ]
  },
  {
   "cell_type": "markdown",
   "id": "72158edc-5d19-4ae1-ba05-08ceae3e4f09",
   "metadata": {},
   "source": [
    "** I will conserve Kms Driven feature because it does make sense to have a negative coef even though its P value is highert than 0.05 **"
   ]
  },
  {
   "cell_type": "code",
   "execution_count": 34,
   "id": "ad94a322-7d34-42af-90d4-f0057a2e1ffb",
   "metadata": {},
   "outputs": [],
   "source": [
    "X_train_new= X_train4.drop('const',axis=1)"
   ]
  },
  {
   "cell_type": "code",
   "execution_count": 35,
   "id": "005e82ee-5cc1-44fc-bb4d-9f98f36fd9aa",
   "metadata": {},
   "outputs": [
    {
     "data": {
      "text/html": [
       "<div>\n",
       "<style scoped>\n",
       "    .dataframe tbody tr th:only-of-type {\n",
       "        vertical-align: middle;\n",
       "    }\n",
       "\n",
       "    .dataframe tbody tr th {\n",
       "        vertical-align: top;\n",
       "    }\n",
       "\n",
       "    .dataframe thead th {\n",
       "        text-align: right;\n",
       "    }\n",
       "</style>\n",
       "<table border=\"1\" class=\"dataframe\">\n",
       "  <thead>\n",
       "    <tr style=\"text-align: right;\">\n",
       "      <th></th>\n",
       "      <th>Features</th>\n",
       "      <th>VIF</th>\n",
       "    </tr>\n",
       "  </thead>\n",
       "  <tbody>\n",
       "    <tr>\n",
       "      <th>4</th>\n",
       "      <td>Manual</td>\n",
       "      <td>3.91</td>\n",
       "    </tr>\n",
       "    <tr>\n",
       "      <th>1</th>\n",
       "      <td>Car_years</td>\n",
       "      <td>3.69</td>\n",
       "    </tr>\n",
       "    <tr>\n",
       "      <th>5</th>\n",
       "      <td>Individual</td>\n",
       "      <td>1.92</td>\n",
       "    </tr>\n",
       "    <tr>\n",
       "      <th>2</th>\n",
       "      <td>Present_Price_USD</td>\n",
       "      <td>1.71</td>\n",
       "    </tr>\n",
       "    <tr>\n",
       "      <th>3</th>\n",
       "      <td>Diesel</td>\n",
       "      <td>1.66</td>\n",
       "    </tr>\n",
       "    <tr>\n",
       "      <th>0</th>\n",
       "      <td>Kms_Driven</td>\n",
       "      <td>1.40</td>\n",
       "    </tr>\n",
       "  </tbody>\n",
       "</table>\n",
       "</div>"
      ],
      "text/plain": [
       "            Features   VIF\n",
       "4             Manual  3.91\n",
       "1          Car_years  3.69\n",
       "5         Individual  1.92\n",
       "2  Present_Price_USD  1.71\n",
       "3             Diesel  1.66\n",
       "0         Kms_Driven  1.40"
      ]
     },
     "execution_count": 35,
     "metadata": {},
     "output_type": "execute_result"
    }
   ],
   "source": [
    "from statsmodels.stats.outliers_influence import variance_inflation_factor\n",
    "\n",
    "vif = pd.DataFrame()\n",
    "X = X_train_new\n",
    "vif['Features'] = X.columns\n",
    "vif['VIF'] = [variance_inflation_factor(X.values, i) for i in range(X.shape[1])]\n",
    "vif['VIF'] = round(vif['VIF'], 2)\n",
    "vif = vif.sort_values(by = \"VIF\", ascending = False)\n",
    "vif"
   ]
  },
  {
   "cell_type": "markdown",
   "id": "fc56620b-aeed-496f-9b65-32052c4e720c",
   "metadata": {},
   "source": [
    "### Residual Analysis of the train data"
   ]
  },
  {
   "cell_type": "code",
   "execution_count": 37,
   "id": "72d3d82d-7e39-463c-8680-38aa5e648a4f",
   "metadata": {},
   "outputs": [
    {
     "name": "stderr",
     "output_type": "stream",
     "text": [
      "C:\\Users\\Nico\\anaconda3\\lib\\site-packages\\seaborn\\distributions.py:2619: FutureWarning: `distplot` is a deprecated function and will be removed in a future version. Please adapt your code to use either `displot` (a figure-level function with similar flexibility) or `histplot` (an axes-level function for histograms).\n",
      "  warnings.warn(msg, FutureWarning)\n"
     ]
    },
    {
     "data": {
      "text/plain": [
       "Text(0.5, 0, 'Errors')"
      ]
     },
     "execution_count": 37,
     "metadata": {},
     "output_type": "execute_result"
    },
    {
     "data": {
      "image/png": "[encoded data removed]",
      "text/plain": [
       "<Figure size 640x480 with 1 Axes>"
      ]
     },
     "metadata": {},
     "output_type": "display_data"
    }
   ],
   "source": [
    "y_train_pred = model3.predict(X_train4)\n",
    "fig = plt.figure()\n",
    "sns.distplot((y_train - y_train_pred), bins = 20)\n",
    "fig.suptitle('Error Terms', fontsize = 20)                  # Plot heading \n",
    "plt.xlabel('Errors', fontsize = 18)  "
   ]
  },
  {
   "cell_type": "markdown",
   "id": "a221e6b3-6dc2-4f11-900e-3e9574ccf420",
   "metadata": {},
   "source": [
    "### Making Predictions"
   ]
  },
  {
   "cell_type": "code",
   "execution_count": 41,
   "id": "560f1e1a-1718-4361-9a94-7a3322050c04",
   "metadata": {},
   "outputs": [],
   "source": [
    "#Dividing the test set into features and target.\n",
    "\n",
    "y_test = df_test.pop('Selling_Price_USD')\n",
    "X_test = df_test"
   ]
  },
  {
   "cell_type": "code",
   "execution_count": 42,
   "id": "1b076f27-f411-4c9f-845d-5d2045b8565b",
   "metadata": {},
   "outputs": [],
   "source": [
    "# Predicting the values by extracting the columns that our final model had\n",
    "\n",
    "X_test_pred= X_test[X_train_new.columns]\n",
    "\n",
    "X_test_pred= sm.add_constant(X_test_pred)"
   ]
  },
  {
   "cell_type": "code",
   "execution_count": 43,
   "id": "a6545372-a907-4a21-82c1-a3891e73a272",
   "metadata": {},
   "outputs": [],
   "source": [
    "y_pred= model3.predict(X_test_pred)"
   ]
  },
  {
   "cell_type": "code",
   "execution_count": 48,
   "id": "364f91bb-b3b9-4897-bdcd-94dc9c58c74e",
   "metadata": {},
   "outputs": [
    {
     "data": {
      "text/plain": [
       "Text(0, 0.5, 'y_pred')"
      ]
     },
     "execution_count": 48,
     "metadata": {},
     "output_type": "execute_result"
    },
    {
     "data": {
      "image/png": "[encoded data removed]",
      "text/plain": [
       "<Figure size 640x480 with 1 Axes>"
      ]
     },
     "metadata": {},
     "output_type": "display_data"
    }
   ],
   "source": [
    "fig = plt.figure()\n",
    "plt.scatter(y_test, y_pred)\n",
    "plt.plot([-2, max(y_test)], [-2, max(y_test)], 'r--')    # add diagonal line\n",
    "fig.suptitle('y_test vs y_pred', fontsize=20)\n",
    "plt.xlabel('y_test', fontsize=18)\n",
    "plt.ylabel('y_pred', fontsize=16)"
   ]
  },
  {
   "cell_type": "markdown",
   "id": "399b1549-d064-40e5-80e7-c2c8a6af9833",
   "metadata": {},
   "source": [
    "A scatter plot with a tightly clustered group of points close to the diagonal line indicates a strong positive correlation between y_test and y_pred, which means the model is doing a good job of predicting the dependent variable."
   ]
  },
  {
   "cell_type": "code",
   "execution_count": 45,
   "id": "520c9ddf-c48b-493d-bd23-8b82704f68a9",
   "metadata": {},
   "outputs": [
    {
     "data": {
      "text/html": [
       "<div>\n",
       "<style scoped>\n",
       "    .dataframe tbody tr th:only-of-type {\n",
       "        vertical-align: middle;\n",
       "    }\n",
       "\n",
       "    .dataframe tbody tr th {\n",
       "        vertical-align: top;\n",
       "    }\n",
       "\n",
       "    .dataframe thead th {\n",
       "        text-align: right;\n",
       "    }\n",
       "</style>\n",
       "<table border=\"1\" class=\"dataframe\">\n",
       "  <thead>\n",
       "    <tr style=\"text-align: right;\">\n",
       "      <th></th>\n",
       "      <th>Actual</th>\n",
       "      <th>Predicted</th>\n",
       "    </tr>\n",
       "  </thead>\n",
       "  <tbody>\n",
       "    <tr>\n",
       "      <th>199</th>\n",
       "      <td>-0.891177</td>\n",
       "      <td>-1.340747</td>\n",
       "    </tr>\n",
       "    <tr>\n",
       "      <th>201</th>\n",
       "      <td>-0.272538</td>\n",
       "      <td>-0.001760</td>\n",
       "    </tr>\n",
       "    <tr>\n",
       "      <th>111</th>\n",
       "      <td>-0.687599</td>\n",
       "      <td>-0.545435</td>\n",
       "    </tr>\n",
       "    <tr>\n",
       "      <th>125</th>\n",
       "      <td>-0.737011</td>\n",
       "      <td>-1.083886</td>\n",
       "    </tr>\n",
       "    <tr>\n",
       "      <th>46</th>\n",
       "      <td>-0.391127</td>\n",
       "      <td>-0.336990</td>\n",
       "    </tr>\n",
       "  </tbody>\n",
       "</table>\n",
       "</div>"
      ],
      "text/plain": [
       "       Actual  Predicted\n",
       "199 -0.891177  -1.340747\n",
       "201 -0.272538  -0.001760\n",
       "111 -0.687599  -0.545435\n",
       "125 -0.737011  -1.083886\n",
       "46  -0.391127  -0.336990"
      ]
     },
     "execution_count": 45,
     "metadata": {},
     "output_type": "execute_result"
    }
   ],
   "source": [
    "df = pd.DataFrame({'Actual':y_test,\"Predicted\":y_pred})\n",
    "df.head()"
   ]
  },
  {
   "cell_type": "code",
   "execution_count": 46,
   "id": "f896588c-429e-428a-9cb6-99ae683da080",
   "metadata": {},
   "outputs": [
    {
     "data": {
      "text/plain": [
       "0.8412891191280639"
      ]
     },
     "execution_count": 46,
     "metadata": {},
     "output_type": "execute_result"
    }
   ],
   "source": [
    "from sklearn.metrics import r2_score\n",
    "R2 = r2_score(y_test,y_pred)\n",
    "R2"
   ]
  },
  {
   "cell_type": "markdown",
   "id": "eef92c6b-6648-4a47-ae15-7b602d9f595a",
   "metadata": {},
   "source": [
    "The R-squared value is a statistical measure that represents the proportion of the variance in the dependent variable that is predictable from the independent variable(s). It ranges from 0 to 1, with higher values indicating a better fit of the model to the data.\n",
    "\n",
    "In this case, the R-squared value is 0.841, which means that the independent variables in the model (or features) explain about 84.1% of the variation in the dependent variable "
   ]
  }
 ],
 "metadata": {
  "kernelspec": {
   "display_name": "Python 3 (ipykernel)",
   "language": "python",
   "name": "python3"
  },
  "language_info": {
   "codemirror_mode": {
    "name": "ipython",
    "version": 3
   },
   "file_extension": ".py",
   "mimetype": "text/x-python",
   "name": "python",
   "nbconvert_exporter": "python",
   "pygments_lexer": "ipython3",
   "version": "3.9.13"
  }
 },
 "nbformat": 4,
 "nbformat_minor": 5
}
